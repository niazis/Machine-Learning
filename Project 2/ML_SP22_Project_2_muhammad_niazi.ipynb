{
  "cells": [
    {
      "cell_type": "markdown",
      "metadata": {},
      "source": [
        "# ML_SP22_Project_2 (Classical Machine Learning Model Building)"
      ]
    },
    {
      "cell_type": "markdown",
      "metadata": {
        "id": "eQtTOPP_W3dd"
      },
      "source": [
        "**Exploratory Data Analysis(EDA)**\n",
        "\n",
        " Exploratory Data Analysis (EDA) is an approach to analyzing datasets to summarize their main characteristics, often with visual methods. EDA is used for seeing what the data can tell us before the modeling task."
      ]
    },
    {
      "cell_type": "markdown",
      "metadata": {
        "id": "j_M7jRVBWoiu"
      },
      "source": [
        "**Import Libaries**\n",
        "\n",
        "We will start by importing the libraries we will require for performing EDA. These include NumPy, Pandas, Matplotlib, and Seaborn."
      ]
    },
    {
      "cell_type": "code",
      "execution_count": null,
      "metadata": {
        "id": "J7N7WVv4VM0S"
      },
      "outputs": [],
      "source": [
        "#all the imports\n",
        "import pandas as pd\n",
        "import numpy as np\n",
        "import matplotlib.pyplot as plt\n",
        "import seaborn as sns\n",
        "import warnings\n",
        "import scipy   \n",
        "from sklearn.preprocessing import LabelEncoder,OneHotEncoder \n",
        "from sklearn.preprocessing import StandardScaler \n",
        "from sklearn.model_selection import train_test_split \n",
        "from imblearn.over_sampling import SMOTE \n",
        "from sklearn.model_selection import KFold \n",
        "from sklearn.model_selection import cross_val_score \n",
        "from numpy import mean   \n",
        "from numpy import absolute  \n",
        "from numpy import sqrt  \n",
        "%matplotlib inline\n",
        "warnings.filterwarnings('ignore')"
      ]
    },
    {
      "cell_type": "markdown",
      "metadata": {
        "id": "7It5wbUdXDNl"
      },
      "source": [
        "**Load DataSet**\n",
        "\n",
        "Read the data from a CSV file using Pandas libaray."
      ]
    },
    {
      "cell_type": "code",
      "execution_count": null,
      "metadata": {
        "id": "TlVwPQTAYVpP"
      },
      "outputs": [],
      "source": [
        "#load the dataset \n",
        "wine_data=pd.read_csv('/content/wine-tasting.csv')"
      ]
    },
    {
      "cell_type": "markdown",
      "metadata": {
        "id": "5pg7-Yh_bepn"
      },
      "source": [
        "let look at our dataset looks like using head() fucntion . The output should look like this:"
      ]
    },
    {
      "cell_type": "code",
      "execution_count": null,
      "metadata": {
        "colab": {
          "base_uri": "https://localhost:8080/",
          "height": 206
        },
        "id": "ILkSRaymdjuL",
        "outputId": "bd4affc6-944e-4bbf-a9d4-0be6c6f5a1d7"
      },
      "outputs": [
        {
          "data": {
            "text/html": [
              "\n",
              "  <div id=\"df-59a9e3ff-1318-4cc7-ac8e-7cfb97f81aaa\">\n",
              "    <div class=\"colab-df-container\">\n",
              "      <div>\n",
              "<style scoped>\n",
              "    .dataframe tbody tr th:only-of-type {\n",
              "        vertical-align: middle;\n",
              "    }\n",
              "\n",
              "    .dataframe tbody tr th {\n",
              "        vertical-align: top;\n",
              "    }\n",
              "\n",
              "    .dataframe thead th {\n",
              "        text-align: right;\n",
              "    }\n",
              "</style>\n",
              "<table border=\"1\" class=\"dataframe\">\n",
              "  <thead>\n",
              "    <tr style=\"text-align: right;\">\n",
              "      <th></th>\n",
              "      <th>fixed acidity</th>\n",
              "      <th>volatile acidity</th>\n",
              "      <th>citric acid</th>\n",
              "      <th>residual sugar</th>\n",
              "      <th>chlorides</th>\n",
              "      <th>free sulfur dioxide</th>\n",
              "      <th>total sulfur dioxide</th>\n",
              "      <th>density</th>\n",
              "      <th>sulphates</th>\n",
              "      <th>alcohol</th>\n",
              "      <th>type</th>\n",
              "      <th>pHValue</th>\n",
              "      <th>taste</th>\n",
              "    </tr>\n",
              "  </thead>\n",
              "  <tbody>\n",
              "    <tr>\n",
              "      <th>0</th>\n",
              "      <td>7.0</td>\n",
              "      <td>0.27</td>\n",
              "      <td>0.36</td>\n",
              "      <td>20.7</td>\n",
              "      <td>0.045</td>\n",
              "      <td>45.0</td>\n",
              "      <td>170.0</td>\n",
              "      <td>1.0010</td>\n",
              "      <td>0.45</td>\n",
              "      <td>8.8</td>\n",
              "      <td>white</td>\n",
              "      <td>very acidic</td>\n",
              "      <td>normal</td>\n",
              "    </tr>\n",
              "    <tr>\n",
              "      <th>1</th>\n",
              "      <td>6.3</td>\n",
              "      <td>0.30</td>\n",
              "      <td>0.34</td>\n",
              "      <td>1.6</td>\n",
              "      <td>0.049</td>\n",
              "      <td>14.0</td>\n",
              "      <td>132.0</td>\n",
              "      <td>0.9940</td>\n",
              "      <td>0.49</td>\n",
              "      <td>9.5</td>\n",
              "      <td>white</td>\n",
              "      <td>quite acidic</td>\n",
              "      <td>normal</td>\n",
              "    </tr>\n",
              "    <tr>\n",
              "      <th>2</th>\n",
              "      <td>8.1</td>\n",
              "      <td>0.28</td>\n",
              "      <td>0.40</td>\n",
              "      <td>6.9</td>\n",
              "      <td>0.050</td>\n",
              "      <td>30.0</td>\n",
              "      <td>97.0</td>\n",
              "      <td>0.9951</td>\n",
              "      <td>0.44</td>\n",
              "      <td>10.1</td>\n",
              "      <td>white</td>\n",
              "      <td>quite acidic</td>\n",
              "      <td>normal</td>\n",
              "    </tr>\n",
              "    <tr>\n",
              "      <th>3</th>\n",
              "      <td>7.2</td>\n",
              "      <td>0.23</td>\n",
              "      <td>0.32</td>\n",
              "      <td>8.5</td>\n",
              "      <td>0.058</td>\n",
              "      <td>47.0</td>\n",
              "      <td>186.0</td>\n",
              "      <td>0.9956</td>\n",
              "      <td>0.40</td>\n",
              "      <td>9.9</td>\n",
              "      <td>white</td>\n",
              "      <td>very acidic</td>\n",
              "      <td>normal</td>\n",
              "    </tr>\n",
              "    <tr>\n",
              "      <th>4</th>\n",
              "      <td>7.2</td>\n",
              "      <td>0.23</td>\n",
              "      <td>0.32</td>\n",
              "      <td>8.5</td>\n",
              "      <td>0.058</td>\n",
              "      <td>47.0</td>\n",
              "      <td>186.0</td>\n",
              "      <td>0.9956</td>\n",
              "      <td>0.40</td>\n",
              "      <td>9.9</td>\n",
              "      <td>white</td>\n",
              "      <td>very acidic</td>\n",
              "      <td>normal</td>\n",
              "    </tr>\n",
              "  </tbody>\n",
              "</table>\n",
              "</div>\n",
              "      <button class=\"colab-df-convert\" onclick=\"convertToInteractive('df-59a9e3ff-1318-4cc7-ac8e-7cfb97f81aaa')\"\n",
              "              title=\"Convert this dataframe to an interactive table.\"\n",
              "              style=\"display:none;\">\n",
              "        \n",
              "  <svg xmlns=\"http://www.w3.org/2000/svg\" height=\"24px\"viewBox=\"0 0 24 24\"\n",
              "       width=\"24px\">\n",
              "    <path d=\"M0 0h24v24H0V0z\" fill=\"none\"/>\n",
              "    <path d=\"M18.56 5.44l.94 2.06.94-2.06 2.06-.94-2.06-.94-.94-2.06-.94 2.06-2.06.94zm-11 1L8.5 8.5l.94-2.06 2.06-.94-2.06-.94L8.5 2.5l-.94 2.06-2.06.94zm10 10l.94 2.06.94-2.06 2.06-.94-2.06-.94-.94-2.06-.94 2.06-2.06.94z\"/><path d=\"M17.41 7.96l-1.37-1.37c-.4-.4-.92-.59-1.43-.59-.52 0-1.04.2-1.43.59L10.3 9.45l-7.72 7.72c-.78.78-.78 2.05 0 2.83L4 21.41c.39.39.9.59 1.41.59.51 0 1.02-.2 1.41-.59l7.78-7.78 2.81-2.81c.8-.78.8-2.07 0-2.86zM5.41 20L4 18.59l7.72-7.72 1.47 1.35L5.41 20z\"/>\n",
              "  </svg>\n",
              "      </button>\n",
              "      \n",
              "  <style>\n",
              "    .colab-df-container {\n",
              "      display:flex;\n",
              "      flex-wrap:wrap;\n",
              "      gap: 12px;\n",
              "    }\n",
              "\n",
              "    .colab-df-convert {\n",
              "      background-color: #E8F0FE;\n",
              "      border: none;\n",
              "      border-radius: 50%;\n",
              "      cursor: pointer;\n",
              "      display: none;\n",
              "      fill: #1967D2;\n",
              "      height: 32px;\n",
              "      padding: 0 0 0 0;\n",
              "      width: 32px;\n",
              "    }\n",
              "\n",
              "    .colab-df-convert:hover {\n",
              "      background-color: #E2EBFA;\n",
              "      box-shadow: 0px 1px 2px rgba(60, 64, 67, 0.3), 0px 1px 3px 1px rgba(60, 64, 67, 0.15);\n",
              "      fill: #174EA6;\n",
              "    }\n",
              "\n",
              "    [theme=dark] .colab-df-convert {\n",
              "      background-color: #3B4455;\n",
              "      fill: #D2E3FC;\n",
              "    }\n",
              "\n",
              "    [theme=dark] .colab-df-convert:hover {\n",
              "      background-color: #434B5C;\n",
              "      box-shadow: 0px 1px 3px 1px rgba(0, 0, 0, 0.15);\n",
              "      filter: drop-shadow(0px 1px 2px rgba(0, 0, 0, 0.3));\n",
              "      fill: #FFFFFF;\n",
              "    }\n",
              "  </style>\n",
              "\n",
              "      <script>\n",
              "        const buttonEl =\n",
              "          document.querySelector('#df-59a9e3ff-1318-4cc7-ac8e-7cfb97f81aaa button.colab-df-convert');\n",
              "        buttonEl.style.display =\n",
              "          google.colab.kernel.accessAllowed ? 'block' : 'none';\n",
              "\n",
              "        async function convertToInteractive(key) {\n",
              "          const element = document.querySelector('#df-59a9e3ff-1318-4cc7-ac8e-7cfb97f81aaa');\n",
              "          const dataTable =\n",
              "            await google.colab.kernel.invokeFunction('convertToInteractive',\n",
              "                                                     [key], {});\n",
              "          if (!dataTable) return;\n",
              "\n",
              "          const docLinkHtml = 'Like what you see? Visit the ' +\n",
              "            '<a target=\"_blank\" href=https://colab.research.google.com/notebooks/data_table.ipynb>data table notebook</a>'\n",
              "            + ' to learn more about interactive tables.';\n",
              "          element.innerHTML = '';\n",
              "          dataTable['output_type'] = 'display_data';\n",
              "          await google.colab.output.renderOutput(dataTable, element);\n",
              "          const docLink = document.createElement('div');\n",
              "          docLink.innerHTML = docLinkHtml;\n",
              "          element.appendChild(docLink);\n",
              "        }\n",
              "      </script>\n",
              "    </div>\n",
              "  </div>\n",
              "  "
            ],
            "text/plain": [
              "   fixed acidity  volatile acidity  citric acid  residual sugar  chlorides  \\\n",
              "0            7.0              0.27         0.36            20.7      0.045   \n",
              "1            6.3              0.30         0.34             1.6      0.049   \n",
              "2            8.1              0.28         0.40             6.9      0.050   \n",
              "3            7.2              0.23         0.32             8.5      0.058   \n",
              "4            7.2              0.23         0.32             8.5      0.058   \n",
              "\n",
              "   free sulfur dioxide  total sulfur dioxide  density  sulphates  alcohol  \\\n",
              "0                 45.0                 170.0   1.0010       0.45      8.8   \n",
              "1                 14.0                 132.0   0.9940       0.49      9.5   \n",
              "2                 30.0                  97.0   0.9951       0.44     10.1   \n",
              "3                 47.0                 186.0   0.9956       0.40      9.9   \n",
              "4                 47.0                 186.0   0.9956       0.40      9.9   \n",
              "\n",
              "    type       pHValue   taste  \n",
              "0  white   very acidic  normal  \n",
              "1  white  quite acidic  normal  \n",
              "2  white  quite acidic  normal  \n",
              "3  white   very acidic  normal  \n",
              "4  white   very acidic  normal  "
            ]
          },
          "execution_count": 3,
          "metadata": {},
          "output_type": "execute_result"
        }
      ],
      "source": [
        "#read the dataset\n",
        "wine_data.head()"
      ]
    },
    {
      "cell_type": "code",
      "execution_count": null,
      "metadata": {
        "colab": {
          "base_uri": "https://localhost:8080/"
        },
        "id": "wL0jm8O1bZ2h",
        "outputId": "60583904-aa43-48d4-b89a-dc5ddda2dc05"
      },
      "outputs": [
        {
          "name": "stdout",
          "output_type": "stream",
          "text": [
            "row and columns of the dataset is (6498, 13) respectively\n"
          ]
        }
      ],
      "source": [
        "#checking the rows and coloumn \n",
        "shape=wine_data.shape\n",
        "print('row and columns of the dataset is',shape,'respectively')"
      ]
    },
    {
      "cell_type": "code",
      "execution_count": null,
      "metadata": {
        "colab": {
          "base_uri": "https://localhost:8080/"
        },
        "id": "CBmt8lwubMnC",
        "outputId": "9fd726f2-2ea9-41cc-9e39-5bbcad7c7aed"
      },
      "outputs": [
        {
          "name": "stdout",
          "output_type": "stream",
          "text": [
            "Columns names:- Index(['fixed acidity', 'volatile acidity', 'citric acid', 'residual sugar',\n",
            "       'chlorides', 'free sulfur dioxide', 'total sulfur dioxide', 'density',\n",
            "       'sulphates', 'alcohol', 'type', 'pHValue', 'taste'],\n",
            "      dtype='object')\n"
          ]
        }
      ],
      "source": [
        "#checking the columns names \n",
        "col_name=wine_data.columns\n",
        "print('Columns names:-',col_name)"
      ]
    },
    {
      "cell_type": "markdown",
      "metadata": {
        "id": "EUHBvvbPes4t"
      },
      "source": [
        "**Targeted column:-**\n",
        "The **taste** column is our target variable."
      ]
    },
    {
      "cell_type": "code",
      "execution_count": null,
      "metadata": {
        "colab": {
          "base_uri": "https://localhost:8080/"
        },
        "id": "I7bi7anhbwuC",
        "outputId": "c43b3788-e12a-4059-b6ad-d5cd1b6834e6"
      },
      "outputs": [
        {
          "data": {
            "text/plain": [
              "fixed acidity           float64\n",
              "volatile acidity        float64\n",
              "citric acid             float64\n",
              "residual sugar          float64\n",
              "chlorides               float64\n",
              "free sulfur dioxide     float64\n",
              "total sulfur dioxide    float64\n",
              "density                 float64\n",
              "sulphates               float64\n",
              "alcohol                 float64\n",
              "type                     object\n",
              "pHValue                  object\n",
              "taste                    object\n",
              "dtype: object"
            ]
          },
          "execution_count": 6,
          "metadata": {},
          "output_type": "execute_result"
        }
      ],
      "source": [
        "#checking the data types of the columns\n",
        "wine_data.dtypes"
      ]
    },
    {
      "cell_type": "markdown",
      "metadata": {
        "id": "iUiYB6R_fBpP"
      },
      "source": [
        "**Checking the uniqueness**"
      ]
    },
    {
      "cell_type": "markdown",
      "metadata": {
        "id": "6zmp8qv8e9p_"
      },
      "source": [
        "To check the uniqueness of the selected columns we use **unique() function**.It is used to find the unique elements of an array. Returns the sorted unique elements of an array"
      ]
    },
    {
      "cell_type": "code",
      "execution_count": null,
      "metadata": {
        "colab": {
          "base_uri": "https://localhost:8080/"
        },
        "id": "ZRYBkHEdeRMY",
        "outputId": "6df67c10-cf51-4f3a-adee-694841c748a8"
      },
      "outputs": [
        {
          "data": {
            "text/plain": [
              "array(['normal', 'bad', 'good'], dtype=object)"
            ]
          },
          "execution_count": 7,
          "metadata": {},
          "output_type": "execute_result"
        }
      ],
      "source": [
        "#uniques of the taste columns\n",
        "wine_data.taste.unique()"
      ]
    },
    {
      "cell_type": "markdown",
      "metadata": {
        "id": "JSZZ1ILgfL6-"
      },
      "source": [
        "**Selecting of the value of the Taste columns**"
      ]
    },
    {
      "cell_type": "markdown",
      "metadata": {
        "id": "1HJECFgJfRnZ"
      },
      "source": [
        "we select the values of the taste columns by using **isin() method**.It is  used to filter data frames. This method helps in selecting rows with having a particular(or Multiple) value in a particular column"
      ]
    },
    {
      "cell_type": "code",
      "execution_count": null,
      "metadata": {
        "id": "ZbtNmCF9d6FK"
      },
      "outputs": [],
      "source": [
        "#selection of values of colums taste\n",
        "wine_data=wine_data[wine_data['taste'].isin(['bad','good'])]"
      ]
    },
    {
      "cell_type": "code",
      "execution_count": null,
      "metadata": {
        "colab": {
          "base_uri": "https://localhost:8080/"
        },
        "id": "46bswckqhFFS",
        "outputId": "0cb637c5-f764-45be-dbee-e6a1e9f23d42"
      },
      "outputs": [
        {
          "data": {
            "text/plain": [
              "array(['bad', 'good'], dtype=object)"
            ]
          },
          "execution_count": 9,
          "metadata": {},
          "output_type": "execute_result"
        }
      ],
      "source": [
        "#after selection of the uniqued values\n",
        "wine_data['taste'].unique()"
      ]
    },
    {
      "cell_type": "markdown",
      "metadata": {
        "id": "mrtk9scDc4Hl"
      },
      "source": [
        "**Checking for missing values**"
      ]
    },
    {
      "cell_type": "code",
      "execution_count": null,
      "metadata": {
        "colab": {
          "base_uri": "https://localhost:8080/"
        },
        "id": "jOIWE4jhcA1f",
        "outputId": "f88be9af-523a-4ad5-f0d6-071ba46410cc"
      },
      "outputs": [
        {
          "data": {
            "text/plain": [
              "fixed acidity           0.000273\n",
              "volatile acidity        0.000000\n",
              "citric acid             0.000000\n",
              "residual sugar          0.000000\n",
              "chlorides               0.000000\n",
              "free sulfur dioxide     0.000000\n",
              "total sulfur dioxide    0.000000\n",
              "density                 0.000000\n",
              "sulphates               0.000000\n",
              "alcohol                 0.000000\n",
              "type                    0.000000\n",
              "pHValue                 0.000000\n",
              "taste                   0.000000\n",
              "dtype: float64"
            ]
          },
          "execution_count": 10,
          "metadata": {},
          "output_type": "execute_result"
        }
      ],
      "source": [
        "#checking the null values in the cols \n",
        "wine_data.isnull().sum()/len(wine_data)"
      ]
    },
    {
      "cell_type": "markdown",
      "metadata": {
        "id": "tArEoI4bgIym"
      },
      "source": [
        "***Dropna()***\n",
        "To remove the missing values we use **dropna() method**.It removes the rows that contains NULL values."
      ]
    },
    {
      "cell_type": "code",
      "execution_count": null,
      "metadata": {
        "id": "JGtcq989dFy-"
      },
      "outputs": [],
      "source": [
        "#The dropna() method removes the rows that contains NULL values.\n",
        "wine_data=wine_data.dropna()"
      ]
    },
    {
      "cell_type": "code",
      "execution_count": null,
      "metadata": {
        "colab": {
          "base_uri": "https://localhost:8080/"
        },
        "id": "LO5repUZdXBr",
        "outputId": "f1fbbcc6-e33b-445b-e7ee-948bb77c2678"
      },
      "outputs": [
        {
          "data": {
            "text/plain": [
              "fixed acidity           0.0\n",
              "volatile acidity        0.0\n",
              "citric acid             0.0\n",
              "residual sugar          0.0\n",
              "chlorides               0.0\n",
              "free sulfur dioxide     0.0\n",
              "total sulfur dioxide    0.0\n",
              "density                 0.0\n",
              "sulphates               0.0\n",
              "alcohol                 0.0\n",
              "type                    0.0\n",
              "pHValue                 0.0\n",
              "taste                   0.0\n",
              "dtype: float64"
            ]
          },
          "execution_count": 12,
          "metadata": {},
          "output_type": "execute_result"
        }
      ],
      "source": [
        "#after removing the null values from the rows\n",
        "wine_data.isnull().sum()/len(wine_data)"
      ]
    },
    {
      "cell_type": "markdown",
      "metadata": {
        "id": "_4JAhJotgjTe"
      },
      "source": [
        "there is no null values "
      ]
    },
    {
      "cell_type": "markdown",
      "metadata": {
        "id": "dd2-piqkgv9g"
      },
      "source": [
        "***chechking the infomartion of the columns***\n",
        "we used info() method to prints information about the wine_data . The information contains the number of columns, column labels, column data types, memory usage, range index, and the number of cells in each column (non-null values)."
      ]
    },
    {
      "cell_type": "code",
      "execution_count": null,
      "metadata": {
        "colab": {
          "base_uri": "https://localhost:8080/"
        },
        "id": "L9nd8SUvdak-",
        "outputId": "9b10fc01-7e0b-4840-aa88-4086661ad805"
      },
      "outputs": [
        {
          "name": "stdout",
          "output_type": "stream",
          "text": [
            "<class 'pandas.core.frame.DataFrame'>\n",
            "Int64Index: 3661 entries, 10 to 6496\n",
            "Data columns (total 13 columns):\n",
            " #   Column                Non-Null Count  Dtype  \n",
            "---  ------                --------------  -----  \n",
            " 0   fixed acidity         3661 non-null   float64\n",
            " 1   volatile acidity      3661 non-null   float64\n",
            " 2   citric acid           3661 non-null   float64\n",
            " 3   residual sugar        3661 non-null   float64\n",
            " 4   chlorides             3661 non-null   float64\n",
            " 5   free sulfur dioxide   3661 non-null   float64\n",
            " 6   total sulfur dioxide  3661 non-null   float64\n",
            " 7   density               3661 non-null   float64\n",
            " 8   sulphates             3661 non-null   float64\n",
            " 9   alcohol               3661 non-null   float64\n",
            " 10  type                  3661 non-null   object \n",
            " 11  pHValue               3661 non-null   object \n",
            " 12  taste                 3661 non-null   object \n",
            "dtypes: float64(10), object(3)\n",
            "memory usage: 400.4+ KB\n"
          ]
        }
      ],
      "source": [
        "#Check the data types of each attribute.\n",
        "wine_data.info()"
      ]
    },
    {
      "cell_type": "markdown",
      "metadata": {
        "id": "6FcbN7A4gUn-"
      },
      "source": [
        "##**Detecting and Removing outliers**"
      ]
    },
    {
      "cell_type": "markdown",
      "metadata": {
        "id": "6N9h2JbY2SGi"
      },
      "source": [
        "**Detecting Outliers**"
      ]
    },
    {
      "cell_type": "code",
      "execution_count": null,
      "metadata": {
        "colab": {
          "base_uri": "https://localhost:8080/",
          "height": 480
        },
        "id": "C1f2JMIxnP8M",
        "outputId": "24e4cd7e-c5b4-4ea2-e8c3-d0c1daa1bd2c"
      },
      "outputs": [
        {
          "data": {
            "image/png": "[encoded data removed]",
            "text/plain": [
              "<Figure size 864x1584 with 32 Axes>"
            ]
          },
          "metadata": {
            "needs_background": "light"
          },
          "output_type": "display_data"
        }
      ],
      "source": [
        "#checking the outlier by usning the box plot\n",
        "wine_data.plot(kind=\"box\",subplots=True,layout=(8,4),figsize=(12,22));"
      ]
    },
    {
      "cell_type": "markdown",
      "metadata": {
        "id": "Yz23-hqjhR-d"
      },
      "source": [
        "we have  outlier in **sulphate,total sulfur Dioxie,free sulfur dioxide,residual sugar,chlorides,fixed acidity, volatile acidity and citric acid**"
      ]
    },
    {
      "cell_type": "markdown",
      "metadata": {
        "id": "-S0ImBauhY3_"
      },
      "source": [
        "**Removing Outlier**"
      ]
    },
    {
      "cell_type": "code",
      "execution_count": null,
      "metadata": {
        "id": "B7fTkCA0mcuQ"
      },
      "outputs": [],
      "source": [
        "#selecting the numerical data \n",
        "wine_data1=wine_data.select_dtypes(exclude='object')"
      ]
    },
    {
      "cell_type": "markdown",
      "metadata": {
        "id": "ucKq6il2o9vz"
      },
      "source": [
        "***Removing the Outlier using z score method***\n",
        "To remove the outlier we use **SciPy** method.This mehtod is a collection of mathematical algorithms and convenience functions built on the NumPy extension of Python.SciPy is also pronounced as “Sigh P"
      ]
    },
    {
      "cell_type": "code",
      "execution_count": null,
      "metadata": {
        "id": "Mm1dPN3MmaEY"
      },
      "outputs": [],
      "source": [
        "#using the z method\n",
        "z_scores = scipy.stats.zscore(wine_data1)\n",
        "#calculate z-scores of `wine_data`\n",
        "abs_z_scores = np.abs(z_scores)\n",
        "filtered_entries = (abs_z_scores < 2).all(axis=1) #filtered entries tells the index of th outliers\n",
        "wine_data= wine_data[filtered_entries]  "
      ]
    },
    {
      "cell_type": "code",
      "execution_count": null,
      "metadata": {
        "colab": {
          "base_uri": "https://localhost:8080/"
        },
        "id": "8qMs_W1XZXxT",
        "outputId": "f8f76f22-2381-4aa3-ad38-e1cfda3e6818"
      },
      "outputs": [
        {
          "name": "stdout",
          "output_type": "stream",
          "text": [
            "After the removing the outlier,the row and columns are (2580, 13) respectivley\n"
          ]
        }
      ],
      "source": [
        "#checking the row and cols\n",
        "outlier_removed=wine_data.shape\n",
        "print('After the removing the outlier,the row and columns are',outlier_removed,'respectivley')"
      ]
    },
    {
      "cell_type": "markdown",
      "metadata": {
        "id": "zu5P-uoU1odd"
      },
      "source": [
        "#**Data Exploraion**"
      ]
    },
    {
      "cell_type": "markdown",
      "metadata": {
        "id": "U8FvnvrujYXz"
      },
      "source": [
        "**Descriptive Statistics**\n",
        "\n",
        "For descriptive statistic parameters for the dataset,We will use **describe()** function.By assigning include attribute a value of ‘all’, we make sure that categorical features are also included in the result. \n",
        "The output DataFrame should look like this:"
      ]
    },
    {
      "cell_type": "code",
      "execution_count": null,
      "metadata": {
        "colab": {
          "base_uri": "https://localhost:8080/",
          "height": 394
        },
        "id": "9LQCTKAejYX0",
        "outputId": "bf6e685c-14ea-4126-8d25-ca0e68c64edf"
      },
      "outputs": [
        {
          "data": {
            "text/html": [
              "\n",
              "  <div id=\"df-4c946dce-81a0-4fca-9fbb-9a68b5d0f123\">\n",
              "    <div class=\"colab-df-container\">\n",
              "      <div>\n",
              "<style scoped>\n",
              "    .dataframe tbody tr th:only-of-type {\n",
              "        vertical-align: middle;\n",
              "    }\n",
              "\n",
              "    .dataframe tbody tr th {\n",
              "        vertical-align: top;\n",
              "    }\n",
              "\n",
              "    .dataframe thead th {\n",
              "        text-align: right;\n",
              "    }\n",
              "</style>\n",
              "<table border=\"1\" class=\"dataframe\">\n",
              "  <thead>\n",
              "    <tr style=\"text-align: right;\">\n",
              "      <th></th>\n",
              "      <th>fixed acidity</th>\n",
              "      <th>volatile acidity</th>\n",
              "      <th>citric acid</th>\n",
              "      <th>residual sugar</th>\n",
              "      <th>chlorides</th>\n",
              "      <th>free sulfur dioxide</th>\n",
              "      <th>total sulfur dioxide</th>\n",
              "      <th>density</th>\n",
              "      <th>sulphates</th>\n",
              "      <th>alcohol</th>\n",
              "      <th>type</th>\n",
              "      <th>pHValue</th>\n",
              "      <th>taste</th>\n",
              "    </tr>\n",
              "  </thead>\n",
              "  <tbody>\n",
              "    <tr>\n",
              "      <th>count</th>\n",
              "      <td>2580.000000</td>\n",
              "      <td>2580.000000</td>\n",
              "      <td>2580.000000</td>\n",
              "      <td>2580.000000</td>\n",
              "      <td>2580.000000</td>\n",
              "      <td>2580.000000</td>\n",
              "      <td>2580.000000</td>\n",
              "      <td>2580.000000</td>\n",
              "      <td>2580.000000</td>\n",
              "      <td>2580.000000</td>\n",
              "      <td>2580</td>\n",
              "      <td>2580</td>\n",
              "      <td>2580</td>\n",
              "    </tr>\n",
              "    <tr>\n",
              "      <th>unique</th>\n",
              "      <td>NaN</td>\n",
              "      <td>NaN</td>\n",
              "      <td>NaN</td>\n",
              "      <td>NaN</td>\n",
              "      <td>NaN</td>\n",
              "      <td>NaN</td>\n",
              "      <td>NaN</td>\n",
              "      <td>NaN</td>\n",
              "      <td>NaN</td>\n",
              "      <td>NaN</td>\n",
              "      <td>2</td>\n",
              "      <td>6</td>\n",
              "      <td>2</td>\n",
              "    </tr>\n",
              "    <tr>\n",
              "      <th>top</th>\n",
              "      <td>NaN</td>\n",
              "      <td>NaN</td>\n",
              "      <td>NaN</td>\n",
              "      <td>NaN</td>\n",
              "      <td>NaN</td>\n",
              "      <td>NaN</td>\n",
              "      <td>NaN</td>\n",
              "      <td>NaN</td>\n",
              "      <td>NaN</td>\n",
              "      <td>NaN</td>\n",
              "      <td>white</td>\n",
              "      <td>very acidic</td>\n",
              "      <td>bad</td>\n",
              "    </tr>\n",
              "    <tr>\n",
              "      <th>freq</th>\n",
              "      <td>NaN</td>\n",
              "      <td>NaN</td>\n",
              "      <td>NaN</td>\n",
              "      <td>NaN</td>\n",
              "      <td>NaN</td>\n",
              "      <td>NaN</td>\n",
              "      <td>NaN</td>\n",
              "      <td>NaN</td>\n",
              "      <td>NaN</td>\n",
              "      <td>NaN</td>\n",
              "      <td>2094</td>\n",
              "      <td>1055</td>\n",
              "      <td>1629</td>\n",
              "    </tr>\n",
              "    <tr>\n",
              "      <th>mean</th>\n",
              "      <td>7.073585</td>\n",
              "      <td>0.324955</td>\n",
              "      <td>0.309341</td>\n",
              "      <td>4.854612</td>\n",
              "      <td>0.050626</td>\n",
              "      <td>29.550388</td>\n",
              "      <td>119.992248</td>\n",
              "      <td>0.994261</td>\n",
              "      <td>0.505488</td>\n",
              "      <td>10.434668</td>\n",
              "      <td>NaN</td>\n",
              "      <td>NaN</td>\n",
              "      <td>NaN</td>\n",
              "    </tr>\n",
              "    <tr>\n",
              "      <th>std</th>\n",
              "      <td>0.932097</td>\n",
              "      <td>0.134222</td>\n",
              "      <td>0.110984</td>\n",
              "      <td>3.868049</td>\n",
              "      <td>0.019788</td>\n",
              "      <td>15.284423</td>\n",
              "      <td>50.325984</td>\n",
              "      <td>0.002569</td>\n",
              "      <td>0.112804</td>\n",
              "      <td>1.118858</td>\n",
              "      <td>NaN</td>\n",
              "      <td>NaN</td>\n",
              "      <td>NaN</td>\n",
              "    </tr>\n",
              "    <tr>\n",
              "      <th>min</th>\n",
              "      <td>4.800000</td>\n",
              "      <td>0.080000</td>\n",
              "      <td>0.030000</td>\n",
              "      <td>0.600000</td>\n",
              "      <td>0.012000</td>\n",
              "      <td>2.000000</td>\n",
              "      <td>7.000000</td>\n",
              "      <td>0.988900</td>\n",
              "      <td>0.250000</td>\n",
              "      <td>8.400000</td>\n",
              "      <td>NaN</td>\n",
              "      <td>NaN</td>\n",
              "      <td>NaN</td>\n",
              "    </tr>\n",
              "    <tr>\n",
              "      <th>25%</th>\n",
              "      <td>6.400000</td>\n",
              "      <td>0.230000</td>\n",
              "      <td>0.250000</td>\n",
              "      <td>1.700000</td>\n",
              "      <td>0.037000</td>\n",
              "      <td>17.000000</td>\n",
              "      <td>89.000000</td>\n",
              "      <td>0.992120</td>\n",
              "      <td>0.420000</td>\n",
              "      <td>9.500000</td>\n",
              "      <td>NaN</td>\n",
              "      <td>NaN</td>\n",
              "      <td>NaN</td>\n",
              "    </tr>\n",
              "    <tr>\n",
              "      <th>50%</th>\n",
              "      <td>7.000000</td>\n",
              "      <td>0.290000</td>\n",
              "      <td>0.310000</td>\n",
              "      <td>2.900000</td>\n",
              "      <td>0.046000</td>\n",
              "      <td>29.000000</td>\n",
              "      <td>122.000000</td>\n",
              "      <td>0.994300</td>\n",
              "      <td>0.490000</td>\n",
              "      <td>10.300000</td>\n",
              "      <td>NaN</td>\n",
              "      <td>NaN</td>\n",
              "      <td>NaN</td>\n",
              "    </tr>\n",
              "    <tr>\n",
              "      <th>75%</th>\n",
              "      <td>7.600000</td>\n",
              "      <td>0.390000</td>\n",
              "      <td>0.370000</td>\n",
              "      <td>7.525000</td>\n",
              "      <td>0.058000</td>\n",
              "      <td>41.000000</td>\n",
              "      <td>155.000000</td>\n",
              "      <td>0.996280</td>\n",
              "      <td>0.580000</td>\n",
              "      <td>11.300000</td>\n",
              "      <td>NaN</td>\n",
              "      <td>NaN</td>\n",
              "      <td>NaN</td>\n",
              "    </tr>\n",
              "    <tr>\n",
              "      <th>max</th>\n",
              "      <td>9.800000</td>\n",
              "      <td>0.705000</td>\n",
              "      <td>0.600000</td>\n",
              "      <td>14.600000</td>\n",
              "      <td>0.133000</td>\n",
              "      <td>66.000000</td>\n",
              "      <td>230.000000</td>\n",
              "      <td>1.000600</td>\n",
              "      <td>0.830000</td>\n",
              "      <td>12.800000</td>\n",
              "      <td>NaN</td>\n",
              "      <td>NaN</td>\n",
              "      <td>NaN</td>\n",
              "    </tr>\n",
              "  </tbody>\n",
              "</table>\n",
              "</div>\n",
              "      <button class=\"colab-df-convert\" onclick=\"convertToInteractive('df-4c946dce-81a0-4fca-9fbb-9a68b5d0f123')\"\n",
              "              title=\"Convert this dataframe to an interactive table.\"\n",
              "              style=\"display:none;\">\n",
              "        \n",
              "  <svg xmlns=\"http://www.w3.org/2000/svg\" height=\"24px\"viewBox=\"0 0 24 24\"\n",
              "       width=\"24px\">\n",
              "    <path d=\"M0 0h24v24H0V0z\" fill=\"none\"/>\n",
              "    <path d=\"M18.56 5.44l.94 2.06.94-2.06 2.06-.94-2.06-.94-.94-2.06-.94 2.06-2.06.94zm-11 1L8.5 8.5l.94-2.06 2.06-.94-2.06-.94L8.5 2.5l-.94 2.06-2.06.94zm10 10l.94 2.06.94-2.06 2.06-.94-2.06-.94-.94-2.06-.94 2.06-2.06.94z\"/><path d=\"M17.41 7.96l-1.37-1.37c-.4-.4-.92-.59-1.43-.59-.52 0-1.04.2-1.43.59L10.3 9.45l-7.72 7.72c-.78.78-.78 2.05 0 2.83L4 21.41c.39.39.9.59 1.41.59.51 0 1.02-.2 1.41-.59l7.78-7.78 2.81-2.81c.8-.78.8-2.07 0-2.86zM5.41 20L4 18.59l7.72-7.72 1.47 1.35L5.41 20z\"/>\n",
              "  </svg>\n",
              "      </button>\n",
              "      \n",
              "  <style>\n",
              "    .colab-df-container {\n",
              "      display:flex;\n",
              "      flex-wrap:wrap;\n",
              "      gap: 12px;\n",
              "    }\n",
              "\n",
              "    .colab-df-convert {\n",
              "      background-color: #E8F0FE;\n",
              "      border: none;\n",
              "      border-radius: 50%;\n",
              "      cursor: pointer;\n",
              "      display: none;\n",
              "      fill: #1967D2;\n",
              "      height: 32px;\n",
              "      padding: 0 0 0 0;\n",
              "      width: 32px;\n",
              "    }\n",
              "\n",
              "    .colab-df-convert:hover {\n",
              "      background-color: #E2EBFA;\n",
              "      box-shadow: 0px 1px 2px rgba(60, 64, 67, 0.3), 0px 1px 3px 1px rgba(60, 64, 67, 0.15);\n",
              "      fill: #174EA6;\n",
              "    }\n",
              "\n",
              "    [theme=dark] .colab-df-convert {\n",
              "      background-color: #3B4455;\n",
              "      fill: #D2E3FC;\n",
              "    }\n",
              "\n",
              "    [theme=dark] .colab-df-convert:hover {\n",
              "      background-color: #434B5C;\n",
              "      box-shadow: 0px 1px 3px 1px rgba(0, 0, 0, 0.15);\n",
              "      filter: drop-shadow(0px 1px 2px rgba(0, 0, 0, 0.3));\n",
              "      fill: #FFFFFF;\n",
              "    }\n",
              "  </style>\n",
              "\n",
              "      <script>\n",
              "        const buttonEl =\n",
              "          document.querySelector('#df-4c946dce-81a0-4fca-9fbb-9a68b5d0f123 button.colab-df-convert');\n",
              "        buttonEl.style.display =\n",
              "          google.colab.kernel.accessAllowed ? 'block' : 'none';\n",
              "\n",
              "        async function convertToInteractive(key) {\n",
              "          const element = document.querySelector('#df-4c946dce-81a0-4fca-9fbb-9a68b5d0f123');\n",
              "          const dataTable =\n",
              "            await google.colab.kernel.invokeFunction('convertToInteractive',\n",
              "                                                     [key], {});\n",
              "          if (!dataTable) return;\n",
              "\n",
              "          const docLinkHtml = 'Like what you see? Visit the ' +\n",
              "            '<a target=\"_blank\" href=https://colab.research.google.com/notebooks/data_table.ipynb>data table notebook</a>'\n",
              "            + ' to learn more about interactive tables.';\n",
              "          element.innerHTML = '';\n",
              "          dataTable['output_type'] = 'display_data';\n",
              "          await google.colab.output.renderOutput(dataTable, element);\n",
              "          const docLink = document.createElement('div');\n",
              "          docLink.innerHTML = docLinkHtml;\n",
              "          element.appendChild(docLink);\n",
              "        }\n",
              "      </script>\n",
              "    </div>\n",
              "  </div>\n",
              "  "
            ],
            "text/plain": [
              "        fixed acidity  volatile acidity  citric acid  residual sugar  \\\n",
              "count     2580.000000       2580.000000  2580.000000     2580.000000   \n",
              "unique            NaN               NaN          NaN             NaN   \n",
              "top               NaN               NaN          NaN             NaN   \n",
              "freq              NaN               NaN          NaN             NaN   \n",
              "mean         7.073585          0.324955     0.309341        4.854612   \n",
              "std          0.932097          0.134222     0.110984        3.868049   \n",
              "min          4.800000          0.080000     0.030000        0.600000   \n",
              "25%          6.400000          0.230000     0.250000        1.700000   \n",
              "50%          7.000000          0.290000     0.310000        2.900000   \n",
              "75%          7.600000          0.390000     0.370000        7.525000   \n",
              "max          9.800000          0.705000     0.600000       14.600000   \n",
              "\n",
              "          chlorides  free sulfur dioxide  total sulfur dioxide      density  \\\n",
              "count   2580.000000          2580.000000           2580.000000  2580.000000   \n",
              "unique          NaN                  NaN                   NaN          NaN   \n",
              "top             NaN                  NaN                   NaN          NaN   \n",
              "freq            NaN                  NaN                   NaN          NaN   \n",
              "mean       0.050626            29.550388            119.992248     0.994261   \n",
              "std        0.019788            15.284423             50.325984     0.002569   \n",
              "min        0.012000             2.000000              7.000000     0.988900   \n",
              "25%        0.037000            17.000000             89.000000     0.992120   \n",
              "50%        0.046000            29.000000            122.000000     0.994300   \n",
              "75%        0.058000            41.000000            155.000000     0.996280   \n",
              "max        0.133000            66.000000            230.000000     1.000600   \n",
              "\n",
              "          sulphates      alcohol   type      pHValue taste  \n",
              "count   2580.000000  2580.000000   2580         2580  2580  \n",
              "unique          NaN          NaN      2            6     2  \n",
              "top             NaN          NaN  white  very acidic   bad  \n",
              "freq            NaN          NaN   2094         1055  1629  \n",
              "mean       0.505488    10.434668    NaN          NaN   NaN  \n",
              "std        0.112804     1.118858    NaN          NaN   NaN  \n",
              "min        0.250000     8.400000    NaN          NaN   NaN  \n",
              "25%        0.420000     9.500000    NaN          NaN   NaN  \n",
              "50%        0.490000    10.300000    NaN          NaN   NaN  \n",
              "75%        0.580000    11.300000    NaN          NaN   NaN  \n",
              "max        0.830000    12.800000    NaN          NaN   NaN  "
            ]
          },
          "execution_count": 18,
          "metadata": {},
          "output_type": "execute_result"
        }
      ],
      "source": [
        "wine_data.describe(include='all')"
      ]
    },
    {
      "cell_type": "markdown",
      "metadata": {
        "id": "30EKRRuc8MCt"
      },
      "source": [
        "**location Checking**"
      ]
    },
    {
      "cell_type": "code",
      "execution_count": null,
      "metadata": {
        "colab": {
          "base_uri": "https://localhost:8080/"
        },
        "id": "9KKFZRa474R7",
        "outputId": "aacf2cda-d4d9-4458-b02e-4c553141ed9f"
      },
      "outputs": [
        {
          "data": {
            "text/plain": [
              "13    good\n",
              "15    good\n",
              "17    good\n",
              "20    good\n",
              "21    good\n",
              "Name: taste, dtype: object"
            ]
          },
          "execution_count": 19,
          "metadata": {},
          "output_type": "execute_result"
        }
      ],
      "source": [
        "#location of the Taste column data\n",
        "wine_taste1=wine_data.loc[wine_data['taste']=='good']\n",
        "wine_taste1[\"taste\"].head()"
      ]
    },
    {
      "cell_type": "code",
      "execution_count": null,
      "metadata": {
        "colab": {
          "base_uri": "https://localhost:8080/"
        },
        "id": "JW4pxjsU8E37",
        "outputId": "7dd662a6-fbaa-4bc0-a111-936e2ee1c927"
      },
      "outputs": [
        {
          "data": {
            "text/plain": [
              "10    bad\n",
              "11    bad\n",
              "12    bad\n",
              "19    bad\n",
              "23    bad\n",
              "Name: taste, dtype: object"
            ]
          },
          "execution_count": 20,
          "metadata": {},
          "output_type": "execute_result"
        }
      ],
      "source": [
        "#location of the Taste column data\n",
        "wine_taste2=wine_data.loc[wine_data['taste']=='bad']\n",
        "wine_taste2[\"taste\"].head()"
      ]
    },
    {
      "cell_type": "markdown",
      "metadata": {
        "id": "n9S5ePHP1oXX"
      },
      "source": [
        "##**Graphical Representation of the data set**"
      ]
    },
    {
      "cell_type": "code",
      "execution_count": null,
      "metadata": {
        "colab": {
          "base_uri": "https://localhost:8080/",
          "height": 440
        },
        "id": "EJj_ocSC22U3",
        "outputId": "995ac1d1-c941-4123-a6be-b70be952d69f"
      },
      "outputs": [
        {
          "data": {
            "text/plain": [
              "(array([   0.,  200.,  400.,  600.,  800., 1000., 1200., 1400., 1600.,\n",
              "        1800.]), <a list of 10 Text major ticklabel objects>)"
            ]
          },
          "execution_count": 21,
          "metadata": {},
          "output_type": "execute_result"
        },
        {
          "data": {
            "image/png": "[encoded data removed]",
            "text/plain": [
              "<Figure size 432x432 with 1 Axes>"
            ]
          },
          "metadata": {
            "needs_background": "light"
          },
          "output_type": "display_data"
        }
      ],
      "source": [
        "#taste col graph\n",
        "wine_data['taste'].value_counts().plot(kind='barh', title='Wine taste',figsize=(6,6),color='Green')\n",
        "plt.xticks(rotation=50)"
      ]
    },
    {
      "cell_type": "code",
      "execution_count": null,
      "metadata": {
        "colab": {
          "base_uri": "https://localhost:8080/",
          "height": 356
        },
        "id": "ZLrOykETl0y4",
        "outputId": "824c9746-f5a1-4bf0-ae14-4c899fcbe610"
      },
      "outputs": [
        {
          "data": {
            "image/png": "[encoded data removed]",
            "text/plain": [
              "<Figure size 432x432 with 1 Axes>"
            ]
          },
          "metadata": {},
          "output_type": "display_data"
        }
      ],
      "source": [
        "#Taste Colunm with  pie representation \n",
        "wine_data[\"taste\"].value_counts().plot(kind=\"pie\",autopct=\"%1.1f%%\",figsize=(6,6),colors = ['#4F6275','#8EB897'])\n",
        "plt.axis(\"equal\")\n",
        "plt.show()"
      ]
    },
    {
      "cell_type": "markdown",
      "metadata": {
        "id": "Hcpv2CNjmDfv"
      },
      "source": [
        "There is 63.1% of bad wine and 63.9% of good wine taste in given dataset"
      ]
    },
    {
      "cell_type": "code",
      "execution_count": null,
      "metadata": {
        "colab": {
          "base_uri": "https://localhost:8080/",
          "height": 321
        },
        "id": "I4_HQpis7KR8",
        "outputId": "d1c5ea42-a147-4218-8005-aa15aa259e5a"
      },
      "outputs": [
        {
          "data": {
            "text/plain": [
              "Text(0, 0.5, 'Counts')"
            ]
          },
          "execution_count": 23,
          "metadata": {},
          "output_type": "execute_result"
        },
        {
          "data": {
            "image/png": "[encoded data removed]",
            "text/plain": [
              "<Figure size 432x288 with 1 Axes>"
            ]
          },
          "metadata": {
            "needs_background": "light"
          },
          "output_type": "display_data"
        }
      ],
      "source": [
        "#histrogram plotting\n",
        "sns.histplot(wine_data['taste'])\n",
        "plt.title('Taste of wine', fontsize=18)\n",
        "plt.xlabel('Taste', fontsize=16)\n",
        "plt.ylabel('Counts', fontsize=16)"
      ]
    },
    {
      "cell_type": "markdown",
      "metadata": {
        "id": "xQd2hOh062x2"
      },
      "source": [
        "**Data Separated**\n",
        ":-separated data set into training and testing"
      ]
    },
    {
      "cell_type": "markdown",
      "metadata": {
        "id": "EfxEV8HF84CJ"
      },
      "source": [
        "**Label encoding**\n",
        "we do LabelEncoder.it encode labels with a value between 0 and n_classes-1 where n is the number of distinct labels. "
      ]
    },
    {
      "cell_type": "code",
      "execution_count": null,
      "metadata": {
        "id": "EpxNgLr287T2"
      },
      "outputs": [],
      "source": [
        "#do label enconder \n",
        "le = LabelEncoder()\n",
        "wine_data['taste']=le.fit_transform(wine_data['taste'])"
      ]
    },
    {
      "cell_type": "markdown",
      "metadata": {
        "id": "5SRGnpFrppS0"
      },
      "source": [
        "***Drop the column***"
      ]
    },
    {
      "cell_type": "code",
      "execution_count": null,
      "metadata": {
        "colab": {
          "base_uri": "https://localhost:8080/"
        },
        "id": "Ai4tjIxZ60Xy",
        "outputId": "70a11ef8-f17c-4467-bc0b-02978f3ef4a8"
      },
      "outputs": [
        {
          "data": {
            "text/plain": [
              "array([0, 0, 0, ..., 1, 0, 0])"
            ]
          },
          "execution_count": 25,
          "metadata": {},
          "output_type": "execute_result"
        }
      ],
      "source": [
        "#Drop the taste column\n",
        "X=wine_data.drop(columns=['taste'])\n",
        "y=wine_data['taste'].values\n",
        "y"
      ]
    },
    {
      "cell_type": "markdown",
      "metadata": {
        "id": "KHbFSpfn9R_7"
      },
      "source": [
        "**One Hot Encoding:-**it is essential process of converting the categorical data variables to be provided to machine and deep learning algorithms which in turn improve predictions as well as classification accuracy of a model.we do one hot encoding to convert the categorical data into numerical data so we gets the better results for algorithms"
      ]
    },
    {
      "cell_type": "code",
      "execution_count": null,
      "metadata": {
        "id": "vqCEi1Cu9Rrm"
      },
      "outputs": [],
      "source": [
        "#get dumnies of the X\n",
        "X=pd.get_dummies(X)"
      ]
    },
    {
      "cell_type": "code",
      "execution_count": null,
      "metadata": {
        "colab": {
          "base_uri": "https://localhost:8080/",
          "height": 284
        },
        "id": "ew1zyWE09NEp",
        "outputId": "f7b93c9e-b339-4060-99cc-08d84a599026"
      },
      "outputs": [
        {
          "data": {
            "text/html": [
              "\n",
              "  <div id=\"df-1f819813-b285-4df6-85c6-190d4fe465a5\">\n",
              "    <div class=\"colab-df-container\">\n",
              "      <div>\n",
              "<style scoped>\n",
              "    .dataframe tbody tr th:only-of-type {\n",
              "        vertical-align: middle;\n",
              "    }\n",
              "\n",
              "    .dataframe tbody tr th {\n",
              "        vertical-align: top;\n",
              "    }\n",
              "\n",
              "    .dataframe thead th {\n",
              "        text-align: right;\n",
              "    }\n",
              "</style>\n",
              "<table border=\"1\" class=\"dataframe\">\n",
              "  <thead>\n",
              "    <tr style=\"text-align: right;\">\n",
              "      <th></th>\n",
              "      <th>fixed acidity</th>\n",
              "      <th>volatile acidity</th>\n",
              "      <th>citric acid</th>\n",
              "      <th>residual sugar</th>\n",
              "      <th>chlorides</th>\n",
              "      <th>free sulfur dioxide</th>\n",
              "      <th>total sulfur dioxide</th>\n",
              "      <th>density</th>\n",
              "      <th>sulphates</th>\n",
              "      <th>alcohol</th>\n",
              "      <th>type_red</th>\n",
              "      <th>type_white</th>\n",
              "      <th>pHValue_acidic</th>\n",
              "      <th>pHValue_extremly acidic</th>\n",
              "      <th>pHValue_lightly acidic</th>\n",
              "      <th>pHValue_midly acidic</th>\n",
              "      <th>pHValue_quite acidic</th>\n",
              "      <th>pHValue_very acidic</th>\n",
              "    </tr>\n",
              "  </thead>\n",
              "  <tbody>\n",
              "    <tr>\n",
              "      <th>10</th>\n",
              "      <td>8.1</td>\n",
              "      <td>0.27</td>\n",
              "      <td>0.41</td>\n",
              "      <td>1.45</td>\n",
              "      <td>0.033</td>\n",
              "      <td>11.0</td>\n",
              "      <td>63.0</td>\n",
              "      <td>0.9908</td>\n",
              "      <td>0.56</td>\n",
              "      <td>12.0</td>\n",
              "      <td>0</td>\n",
              "      <td>1</td>\n",
              "      <td>0</td>\n",
              "      <td>1</td>\n",
              "      <td>0</td>\n",
              "      <td>0</td>\n",
              "      <td>0</td>\n",
              "      <td>0</td>\n",
              "    </tr>\n",
              "    <tr>\n",
              "      <th>11</th>\n",
              "      <td>8.6</td>\n",
              "      <td>0.23</td>\n",
              "      <td>0.40</td>\n",
              "      <td>4.20</td>\n",
              "      <td>0.035</td>\n",
              "      <td>17.0</td>\n",
              "      <td>109.0</td>\n",
              "      <td>0.9947</td>\n",
              "      <td>0.53</td>\n",
              "      <td>9.7</td>\n",
              "      <td>0</td>\n",
              "      <td>1</td>\n",
              "      <td>0</td>\n",
              "      <td>0</td>\n",
              "      <td>0</td>\n",
              "      <td>0</td>\n",
              "      <td>0</td>\n",
              "      <td>1</td>\n",
              "    </tr>\n",
              "    <tr>\n",
              "      <th>12</th>\n",
              "      <td>7.9</td>\n",
              "      <td>0.18</td>\n",
              "      <td>0.37</td>\n",
              "      <td>1.20</td>\n",
              "      <td>0.040</td>\n",
              "      <td>16.0</td>\n",
              "      <td>75.0</td>\n",
              "      <td>0.9920</td>\n",
              "      <td>0.63</td>\n",
              "      <td>10.8</td>\n",
              "      <td>0</td>\n",
              "      <td>1</td>\n",
              "      <td>0</td>\n",
              "      <td>0</td>\n",
              "      <td>0</td>\n",
              "      <td>0</td>\n",
              "      <td>0</td>\n",
              "      <td>1</td>\n",
              "    </tr>\n",
              "    <tr>\n",
              "      <th>13</th>\n",
              "      <td>6.6</td>\n",
              "      <td>0.16</td>\n",
              "      <td>0.40</td>\n",
              "      <td>1.50</td>\n",
              "      <td>0.044</td>\n",
              "      <td>48.0</td>\n",
              "      <td>143.0</td>\n",
              "      <td>0.9912</td>\n",
              "      <td>0.52</td>\n",
              "      <td>12.4</td>\n",
              "      <td>0</td>\n",
              "      <td>1</td>\n",
              "      <td>0</td>\n",
              "      <td>0</td>\n",
              "      <td>0</td>\n",
              "      <td>1</td>\n",
              "      <td>0</td>\n",
              "      <td>0</td>\n",
              "    </tr>\n",
              "    <tr>\n",
              "      <th>15</th>\n",
              "      <td>6.6</td>\n",
              "      <td>0.17</td>\n",
              "      <td>0.38</td>\n",
              "      <td>1.50</td>\n",
              "      <td>0.032</td>\n",
              "      <td>28.0</td>\n",
              "      <td>112.0</td>\n",
              "      <td>0.9914</td>\n",
              "      <td>0.55</td>\n",
              "      <td>11.4</td>\n",
              "      <td>0</td>\n",
              "      <td>1</td>\n",
              "      <td>0</td>\n",
              "      <td>0</td>\n",
              "      <td>0</td>\n",
              "      <td>0</td>\n",
              "      <td>1</td>\n",
              "      <td>0</td>\n",
              "    </tr>\n",
              "  </tbody>\n",
              "</table>\n",
              "</div>\n",
              "      <button class=\"colab-df-convert\" onclick=\"convertToInteractive('df-1f819813-b285-4df6-85c6-190d4fe465a5')\"\n",
              "              title=\"Convert this dataframe to an interactive table.\"\n",
              "              style=\"display:none;\">\n",
              "        \n",
              "  <svg xmlns=\"http://www.w3.org/2000/svg\" height=\"24px\"viewBox=\"0 0 24 24\"\n",
              "       width=\"24px\">\n",
              "    <path d=\"M0 0h24v24H0V0z\" fill=\"none\"/>\n",
              "    <path d=\"M18.56 5.44l.94 2.06.94-2.06 2.06-.94-2.06-.94-.94-2.06-.94 2.06-2.06.94zm-11 1L8.5 8.5l.94-2.06 2.06-.94-2.06-.94L8.5 2.5l-.94 2.06-2.06.94zm10 10l.94 2.06.94-2.06 2.06-.94-2.06-.94-.94-2.06-.94 2.06-2.06.94z\"/><path d=\"M17.41 7.96l-1.37-1.37c-.4-.4-.92-.59-1.43-.59-.52 0-1.04.2-1.43.59L10.3 9.45l-7.72 7.72c-.78.78-.78 2.05 0 2.83L4 21.41c.39.39.9.59 1.41.59.51 0 1.02-.2 1.41-.59l7.78-7.78 2.81-2.81c.8-.78.8-2.07 0-2.86zM5.41 20L4 18.59l7.72-7.72 1.47 1.35L5.41 20z\"/>\n",
              "  </svg>\n",
              "      </button>\n",
              "      \n",
              "  <style>\n",
              "    .colab-df-container {\n",
              "      display:flex;\n",
              "      flex-wrap:wrap;\n",
              "      gap: 12px;\n",
              "    }\n",
              "\n",
              "    .colab-df-convert {\n",
              "      background-color: #E8F0FE;\n",
              "      border: none;\n",
              "      border-radius: 50%;\n",
              "      cursor: pointer;\n",
              "      display: none;\n",
              "      fill: #1967D2;\n",
              "      height: 32px;\n",
              "      padding: 0 0 0 0;\n",
              "      width: 32px;\n",
              "    }\n",
              "\n",
              "    .colab-df-convert:hover {\n",
              "      background-color: #E2EBFA;\n",
              "      box-shadow: 0px 1px 2px rgba(60, 64, 67, 0.3), 0px 1px 3px 1px rgba(60, 64, 67, 0.15);\n",
              "      fill: #174EA6;\n",
              "    }\n",
              "\n",
              "    [theme=dark] .colab-df-convert {\n",
              "      background-color: #3B4455;\n",
              "      fill: #D2E3FC;\n",
              "    }\n",
              "\n",
              "    [theme=dark] .colab-df-convert:hover {\n",
              "      background-color: #434B5C;\n",
              "      box-shadow: 0px 1px 3px 1px rgba(0, 0, 0, 0.15);\n",
              "      filter: drop-shadow(0px 1px 2px rgba(0, 0, 0, 0.3));\n",
              "      fill: #FFFFFF;\n",
              "    }\n",
              "  </style>\n",
              "\n",
              "      <script>\n",
              "        const buttonEl =\n",
              "          document.querySelector('#df-1f819813-b285-4df6-85c6-190d4fe465a5 button.colab-df-convert');\n",
              "        buttonEl.style.display =\n",
              "          google.colab.kernel.accessAllowed ? 'block' : 'none';\n",
              "\n",
              "        async function convertToInteractive(key) {\n",
              "          const element = document.querySelector('#df-1f819813-b285-4df6-85c6-190d4fe465a5');\n",
              "          const dataTable =\n",
              "            await google.colab.kernel.invokeFunction('convertToInteractive',\n",
              "                                                     [key], {});\n",
              "          if (!dataTable) return;\n",
              "\n",
              "          const docLinkHtml = 'Like what you see? Visit the ' +\n",
              "            '<a target=\"_blank\" href=https://colab.research.google.com/notebooks/data_table.ipynb>data table notebook</a>'\n",
              "            + ' to learn more about interactive tables.';\n",
              "          element.innerHTML = '';\n",
              "          dataTable['output_type'] = 'display_data';\n",
              "          await google.colab.output.renderOutput(dataTable, element);\n",
              "          const docLink = document.createElement('div');\n",
              "          docLink.innerHTML = docLinkHtml;\n",
              "          element.appendChild(docLink);\n",
              "        }\n",
              "      </script>\n",
              "    </div>\n",
              "  </div>\n",
              "  "
            ],
            "text/plain": [
              "    fixed acidity  volatile acidity  citric acid  residual sugar  chlorides  \\\n",
              "10            8.1              0.27         0.41            1.45      0.033   \n",
              "11            8.6              0.23         0.40            4.20      0.035   \n",
              "12            7.9              0.18         0.37            1.20      0.040   \n",
              "13            6.6              0.16         0.40            1.50      0.044   \n",
              "15            6.6              0.17         0.38            1.50      0.032   \n",
              "\n",
              "    free sulfur dioxide  total sulfur dioxide  density  sulphates  alcohol  \\\n",
              "10                 11.0                  63.0   0.9908       0.56     12.0   \n",
              "11                 17.0                 109.0   0.9947       0.53      9.7   \n",
              "12                 16.0                  75.0   0.9920       0.63     10.8   \n",
              "13                 48.0                 143.0   0.9912       0.52     12.4   \n",
              "15                 28.0                 112.0   0.9914       0.55     11.4   \n",
              "\n",
              "    type_red  type_white  pHValue_acidic  pHValue_extremly acidic  \\\n",
              "10         0           1               0                        1   \n",
              "11         0           1               0                        0   \n",
              "12         0           1               0                        0   \n",
              "13         0           1               0                        0   \n",
              "15         0           1               0                        0   \n",
              "\n",
              "    pHValue_lightly acidic  pHValue_midly acidic  pHValue_quite acidic  \\\n",
              "10                       0                     0                     0   \n",
              "11                       0                     0                     0   \n",
              "12                       0                     0                     0   \n",
              "13                       0                     1                     0   \n",
              "15                       0                     0                     1   \n",
              "\n",
              "    pHValue_very acidic  \n",
              "10                    0  \n",
              "11                    1  \n",
              "12                    1  \n",
              "13                    0  \n",
              "15                    0  "
            ]
          },
          "execution_count": 27,
          "metadata": {},
          "output_type": "execute_result"
        }
      ],
      "source": [
        "X.head()"
      ]
    },
    {
      "cell_type": "markdown",
      "metadata": {
        "id": "0FnKzCmiqKNH"
      },
      "source": [
        "***plot the Bar graph for 0 and 1***"
      ]
    },
    {
      "cell_type": "code",
      "execution_count": null,
      "metadata": {
        "colab": {
          "base_uri": "https://localhost:8080/",
          "height": 311
        },
        "id": "fmkdAORyp_6a",
        "outputId": "745dba13-452f-4b1c-b0da-7f30585a222f"
      },
      "outputs": [
        {
          "data": {
            "text/plain": [
              "Text(0.5, 1.0, 'Wine taste (0=bad, 1=good)')"
            ]
          },
          "execution_count": 28,
          "metadata": {},
          "output_type": "execute_result"
        },
        {
          "data": {
            "image/png": "[encoded data removed]",
            "text/plain": [
              "<Figure size 432x288 with 1 Axes>"
            ]
          },
          "metadata": {
            "needs_background": "light"
          },
          "output_type": "display_data"
        }
      ],
      "source": [
        "pd.Series(wine_data['taste']).value_counts().sort_index().plot(kind = 'barh')\n",
        "plt.ylabel(\"taste in 0 1\")\n",
        "plt.xlabel(\"counts\")\n",
        "plt.title('Wine taste (0=bad, 1=good)')"
      ]
    },
    {
      "cell_type": "markdown",
      "metadata": {
        "id": "8Kac0j_1pw5g"
      },
      "source": [
        "**Standardization**"
      ]
    },
    {
      "cell_type": "markdown",
      "metadata": {
        "id": "SVKHmeUIq5HS"
      },
      "source": [
        "Standardization: StandardScaler standardizes a feature by subtracting the mean and then scaling to unit variance.from the sklearn lib we import the standard scaler"
      ]
    },
    {
      "cell_type": "code",
      "execution_count": null,
      "metadata": {
        "id": "mTCM5bmwpwr2"
      },
      "outputs": [],
      "source": [
        "#Standardization\n",
        "scaler = StandardScaler()\n",
        "scaler.fit(X)\n",
        "X=scaler.transform(X)"
      ]
    },
    {
      "cell_type": "markdown",
      "metadata": {
        "id": "a40CoGsdApAD"
      },
      "source": [
        "**Data Splitting**\n",
        "\n",
        "Split the data into two datas \n",
        "\n",
        "1.   Train data\n",
        "2.   Test data\n",
        "\n"
      ]
    },
    {
      "cell_type": "code",
      "execution_count": null,
      "metadata": {
        "id": "ljmniU-IAjZF"
      },
      "outputs": [],
      "source": [
        "# Spliting the  the train and test data \n",
        "X_train, X_test, y_train, y_test = train_test_split(X, y, test_size=0.33, random_state=42)"
      ]
    },
    {
      "cell_type": "markdown",
      "metadata": {
        "id": "LlS1sqRh_1Vj"
      },
      "source": [
        "#**Model Implementataion**"
      ]
    },
    {
      "cell_type": "markdown",
      "metadata": {
        "id": "mjTRqSxAAN-1"
      },
      "source": [
        "**Function of Evaluation Metrics**\n",
        "\n",
        "It is used to measure the quality of the machine learning model.Metrics like accuracy, precision, recall are good ways to evaluate classification models for balanced datasets"
      ]
    },
    {
      "cell_type": "code",
      "execution_count": null,
      "metadata": {
        "id": "1AnXaHOR_0Pi"
      },
      "outputs": [],
      "source": [
        "# function for evaluation metrics precision, recall, f1 etc\n",
        "from sklearn.metrics import roc_auc_score, accuracy_score, precision_score, recall_score, f1_score, classification_report,confusion_matrix\n",
        "import seaborn as sns\n",
        "import matplotlib.pyplot as plt\n",
        "def modelEvaluation(predictions, y_test_set, model_name):\n",
        "    # Print model evaluation to predicted result    \n",
        "    print(\"==========\",model_name,\"==========\")\n",
        "    print (\"\\nAccuracy on validation set: {:.4f}\".format(accuracy_score(y_test_set, predictions)))    \n",
        "    print (\"\\nClassification report : \\n\", classification_report(y_test_set, predictions))\n",
        "    print (\"\\nConfusion Matrix : \\n\", confusion_matrix(y_test_set, predictions))\n",
        "    sns.heatmap(confusion_matrix(y_test_set, predictions),annot=True, fmt='g',cmap='viridis')\n",
        "    plt.tight_layout()\n",
        "    plt.show()\n",
        "    results = [accuracy_score(y_test_set, predictions), precision_score(y_test_set, predictions, average='macro'),\n",
        "              recall_score(y_test_set, predictions, average='macro'),f1_score(y_test_set, predictions, average='macro')]\n",
        "    return results"
      ]
    },
    {
      "cell_type": "markdown",
      "metadata": {
        "id": "b1MJVI7EBMPn"
      },
      "source": [
        "**OverSampling**\n",
        "\n",
        "we do data balcancing for getting the better results from the model. the methid we used is **SMOTE**.Smote is (synthetic minority oversampling) technique,that is most commonly used oversampling methods for the imbalance data.SMOTE synthesises new minority instances between existing minority instances"
      ]
    },
    {
      "cell_type": "code",
      "execution_count": null,
      "metadata": {
        "id": "b-XhD66gBLln"
      },
      "outputs": [],
      "source": [
        "# Balancing the dataset\n",
        "oversample = SMOTE()\n",
        "X, y = oversample.fit_resample(X, y)"
      ]
    },
    {
      "cell_type": "markdown",
      "metadata": {
        "id": "2FJN4neKA05Q"
      },
      "source": [
        "**Random Forest Classifier**"
      ]
    },
    {
      "cell_type": "code",
      "execution_count": null,
      "metadata": {
        "colab": {
          "base_uri": "https://localhost:8080/",
          "height": 608
        },
        "id": "Bqvr_vnOA0Om",
        "outputId": "c3716ef5-3c96-4783-e89a-eb8bddd1b0c3"
      },
      "outputs": [
        {
          "name": "stdout",
          "output_type": "stream",
          "text": [
            "========== Random Forest Classifier ==========\n",
            "\n",
            "Accuracy on validation set: 0.8862\n",
            "\n",
            "Classification report : \n",
            "               precision    recall  f1-score   support\n",
            "\n",
            "           0       0.93      0.90      0.91       554\n",
            "           1       0.82      0.87      0.84       298\n",
            "\n",
            "    accuracy                           0.89       852\n",
            "   macro avg       0.87      0.88      0.88       852\n",
            "weighted avg       0.89      0.89      0.89       852\n",
            "\n",
            "\n",
            "Confusion Matrix : \n",
            " [[497  57]\n",
            " [ 40 258]]\n"
          ]
        },
        {
          "data": {
            "image/png": "[encoded data removed]",
            "text/plain": [
              "<Figure size 432x288 with 2 Axes>"
            ]
          },
          "metadata": {
            "needs_background": "light"
          },
          "output_type": "display_data"
        }
      ],
      "source": [
        "#import the RFC from the Sklearn \n",
        "from sklearn.ensemble import RandomForestClassifier\n",
        "rfc = RandomForestClassifier()\n",
        "rfc.fit(X_train, y_train)\n",
        "y_pred_rfc = rfc.predict(X_test)\n",
        "results_rfc = modelEvaluation(y_test, y_pred_rfc, \"Random Forest Classifier\")"
      ]
    },
    {
      "cell_type": "markdown",
      "metadata": {
        "id": "6-MiN2hvDORO"
      },
      "source": [
        "**Cross-Validation**"
      ]
    },
    {
      "cell_type": "markdown",
      "metadata": {
        "id": "UQLBTgEiF1Gf"
      },
      "source": [
        "It is resampling technique with the fundamental idea of splitting the dataset into 2 parts \n",
        "\n",
        "1.   Trainning Data\n",
        "2.   Test Data\n",
        "\n",
        "Train data is used to train the model and the unseen test data is used for prediction"
      ]
    },
    {
      "cell_type": "markdown",
      "metadata": {
        "id": "_othZXQjFlEg"
      },
      "source": [
        "we did cross validation on the Random forest classifier becuase its gave the good accuracy  88.15%\n"
      ]
    },
    {
      "cell_type": "code",
      "execution_count": null,
      "metadata": {
        "colab": {
          "base_uri": "https://localhost:8080/"
        },
        "id": "drnuLgZUuMtn",
        "outputId": "218113e4-0963-4d05-fc54-8fa2d606b692"
      },
      "outputs": [
        {
          "name": "stdout",
          "output_type": "stream",
          "text": [
            "The Mean score the best model after cross validation is  92.66285983954695\n"
          ]
        }
      ],
      "source": [
        "#define cross-validation method to use\n",
        "cv = KFold(n_splits=10, random_state=1, shuffle=True)\n",
        "\n",
        "#build multiple linear regression model\n",
        "model = RandomForestClassifier()\n",
        "\n",
        "#use k-fold CV to evaluate model\n",
        "scores = cross_val_score(model, X, y,cv=cv, n_jobs=-1)\n",
        "\n",
        "#view mean absolute error\n",
        "mean_score=mean(scores)*100\n",
        "print('The Mean score the best model after cross validation is ',mean_score)"
      ]
    },
    {
      "cell_type": "markdown",
      "metadata": {
        "id": "pJPf-JJ4DY_a"
      },
      "source": [
        "##**Part Two of the task**\n",
        "***You should have also done the following***"
      ]
    },
    {
      "cell_type": "markdown",
      "metadata": {
        "id": "0HsPwLkUDj_R"
      },
      "source": [
        "**Implement the 3 models**  \n",
        "1.   logistic regression    \n",
        "2.  Decision Tree\n",
        "3. Random Forecast\n",
        "\n",
        "\n"
      ]
    },
    {
      "cell_type": "markdown",
      "metadata": {
        "id": "FeXtaQDHD4Uv"
      },
      "source": [
        "**Logictic regression**"
      ]
    },
    {
      "cell_type": "code",
      "execution_count": null,
      "metadata": {
        "colab": {
          "base_uri": "https://localhost:8080/",
          "height": 608
        },
        "id": "ifHee63LDg2V",
        "outputId": "e9608b3b-dce7-4577-9dd5-1ad245cc0a35"
      },
      "outputs": [
        {
          "name": "stdout",
          "output_type": "stream",
          "text": [
            "========== logistic Regression ==========\n",
            "\n",
            "Accuracy on validation set: 0.8134\n",
            "\n",
            "Classification report : \n",
            "               precision    recall  f1-score   support\n",
            "\n",
            "           0       0.85      0.85      0.85       538\n",
            "           1       0.75      0.75      0.75       314\n",
            "\n",
            "    accuracy                           0.81       852\n",
            "   macro avg       0.80      0.80      0.80       852\n",
            "weighted avg       0.81      0.81      0.81       852\n",
            "\n",
            "\n",
            "Confusion Matrix : \n",
            " [[458  80]\n",
            " [ 79 235]]\n"
          ]
        },
        {
          "data": {
            "image/png": "[encoded data removed]",
            "text/plain": [
              "<Figure size 432x288 with 2 Axes>"
            ]
          },
          "metadata": {
            "needs_background": "light"
          },
          "output_type": "display_data"
        }
      ],
      "source": [
        "#logistic regression model form the sklearn lib\n",
        "from sklearn.linear_model import LogisticRegression\n",
        "lr = LogisticRegression()\n",
        "lr.fit(X_train, y_train)\n",
        "y_pred_lr = lr.predict(X_test)\n",
        "results_lr = modelEvaluation(y_test, y_pred_lr, \"logistic Regression\")"
      ]
    },
    {
      "cell_type": "markdown",
      "metadata": {
        "id": "X9ePbBcOFkb4"
      },
      "source": [
        "**Random Forest**"
      ]
    },
    {
      "cell_type": "code",
      "execution_count": null,
      "metadata": {
        "colab": {
          "base_uri": "https://localhost:8080/",
          "height": 608
        },
        "id": "-Da4le-HFiif",
        "outputId": "3b76a91b-550a-4c03-9eca-e8c121b57c16"
      },
      "outputs": [
        {
          "name": "stdout",
          "output_type": "stream",
          "text": [
            "========== Random Forest Classifier ==========\n",
            "\n",
            "Accuracy on validation set: 0.8873\n",
            "\n",
            "Classification report : \n",
            "               precision    recall  f1-score   support\n",
            "\n",
            "           0       0.93      0.90      0.91       555\n",
            "           1       0.82      0.87      0.84       297\n",
            "\n",
            "    accuracy                           0.89       852\n",
            "   macro avg       0.87      0.88      0.88       852\n",
            "weighted avg       0.89      0.89      0.89       852\n",
            "\n",
            "\n",
            "Confusion Matrix : \n",
            " [[498  57]\n",
            " [ 39 258]]\n"
          ]
        },
        {
          "data": {
            "image/png": "[encoded data removed]",
            "text/plain": [
              "<Figure size 432x288 with 2 Axes>"
            ]
          },
          "metadata": {
            "needs_background": "light"
          },
          "output_type": "display_data"
        }
      ],
      "source": [
        "#import the Random forest from the Sklearn \n",
        "from sklearn.ensemble import RandomForestClassifier\n",
        "rfc = RandomForestClassifier()\n",
        "rfc.fit(X_train, y_train)\n",
        "y_pred_rfc = rfc.predict(X_test)\n",
        "results_rfc = modelEvaluation(y_test, y_pred_rfc, \"Random Forest Classifier\")"
      ]
    },
    {
      "cell_type": "markdown",
      "metadata": {
        "id": "rsX_Dst2Fbmb"
      },
      "source": [
        "**Decision Tree Classifier**"
      ]
    },
    {
      "cell_type": "code",
      "execution_count": null,
      "metadata": {
        "colab": {
          "base_uri": "https://localhost:8080/",
          "height": 608
        },
        "id": "7uYgEbYVEIA4",
        "outputId": "d722c56a-2975-4708-ec25-aa0f5e7ab013"
      },
      "outputs": [
        {
          "name": "stdout",
          "output_type": "stream",
          "text": [
            "========== Decision Tree Classifier ==========\n",
            "\n",
            "Accuracy on validation set: 0.8275\n",
            "\n",
            "Classification report : \n",
            "               precision    recall  f1-score   support\n",
            "\n",
            "           0       0.86      0.87      0.86       537\n",
            "           1       0.77      0.76      0.76       315\n",
            "\n",
            "    accuracy                           0.83       852\n",
            "   macro avg       0.82      0.81      0.81       852\n",
            "weighted avg       0.83      0.83      0.83       852\n",
            "\n",
            "\n",
            "Confusion Matrix : \n",
            " [[467  70]\n",
            " [ 77 238]]\n"
          ]
        },
        {
          "data": {
            "image/png": "[encoded data removed]",
            "text/plain": [
              "<Figure size 432x288 with 2 Axes>"
            ]
          },
          "metadata": {
            "needs_background": "light"
          },
          "output_type": "display_data"
        }
      ],
      "source": [
        "#Import the Decision Tree Classifer from the Sklearn \n",
        "from sklearn.tree import DecisionTreeClassifier\n",
        "dtc = DecisionTreeClassifier()\n",
        "dtc.fit(X_train, y_train)\n",
        "y_pred = dtc.predict(X_test)\n",
        "results_dtc = modelEvaluation(y_pred, y_test, \"Decision Tree Classifier\")"
      ]
    },
    {
      "cell_type": "markdown",
      "metadata": {
        "id": "9d8hV6HJy7LP"
      },
      "source": [
        "**Ploting the accuriess of the implemented models**"
      ]
    },
    {
      "cell_type": "code",
      "execution_count": null,
      "metadata": {
        "id": "6GCDwqwVFvqO"
      },
      "outputs": [],
      "source": [
        "#accuracies of the algorithm we implement above\n",
        "accuracies=[['RFC',0.8862],['DTC',0.8275],['LR',0.8134]]\n",
        "scores=pd.DataFrame(accuracies,columns=['model','accuracy'])"
      ]
    },
    {
      "cell_type": "code",
      "execution_count": null,
      "metadata": {
        "colab": {
          "base_uri": "https://localhost:8080/",
          "height": 289
        },
        "id": "XJ3Y3NEQGAXE",
        "outputId": "5e2e2ddc-4d88-4aaf-e168-38c123527def"
      },
      "outputs": [
        {
          "data": {
            "image/png": "[encoded data removed]",
            "text/plain": [
              "<Figure size 432x288 with 1 Axes>"
            ]
          },
          "metadata": {
            "needs_background": "light"
          },
          "output_type": "display_data"
        }
      ],
      "source": [
        "#accuracy ploted\n",
        "scores.set_index('model').accuracy.plot(kind='bar',color='green')\n",
        "plt.xlabel('Model')\n",
        "plt.ylabel('Accuracy')\n",
        "plt.show()"
      ]
    },
    {
      "cell_type": "markdown",
      "metadata": {
        "id": "F0xwQGTNJLHR"
      },
      "source": [
        "#**Compare the sklearn Decision Tree with your own Decision Tree implementation results**"
      ]
    },
    {
      "cell_type": "markdown",
      "metadata": {
        "id": "Oo8YvGRaKQkL"
      },
      "source": [
        "##**Own Decision Tree Implementation**"
      ]
    },
    {
      "cell_type": "code",
      "execution_count": null,
      "metadata": {
        "colab": {
          "base_uri": "https://localhost:8080/"
        },
        "id": "Q-_OZxGnUx8x",
        "outputId": "3a010723-c398-4f21-b7c0-0f00ebd8b404"
      },
      "outputs": [
        {
          "name": "stdout",
          "output_type": "stream",
          "text": [
            "Done fitting\n"
          ]
        }
      ],
      "source": [
        "from DT_muhammad_niazi import DecisionTree\n",
        "model = DecisionTree(max_depth=10)\n",
        "X_train=np.array(X_train)\n",
        "y_train=np.array(y_train)\n",
        "\n",
        "model.fit(X_train, y_train)\n"
      ]
    },
    {
      "cell_type": "code",
      "execution_count": null,
      "metadata": {
        "colab": {
          "base_uri": "https://localhost:8080/"
        },
        "id": "hNLlSX9cOj1J",
        "outputId": "cb636300-f1dd-414c-8405-e0d9ef773163"
      },
      "outputs": [
        {
          "name": "stdout",
          "output_type": "stream",
          "text": [
            "0.8157276995305164\n"
          ]
        }
      ],
      "source": [
        "from DT_muhammad_niazi import accuracy_score\n",
        "predictions = model.predict(np.array(X_test))\n",
        "print(accuracy_score(y_test, predictions))"
      ]
    },
    {
      "cell_type": "markdown",
      "metadata": {
        "id": "MlSzvT-Z05Sm"
      },
      "source": [
        "we got the accuracy from the sklearn deciosin tree model is **82.750%**\n",
        "and form own decision tree classifier model have accuracy **81.13%**\n"
      ]
    },
    {
      "cell_type": "markdown",
      "metadata": {
        "id": "_pvGw065Pos_"
      },
      "source": [
        "#**Ensembel models**"
      ]
    },
    {
      "cell_type": "markdown",
      "metadata": {
        "id": "Ta0UIWEIS-GA"
      },
      "source": [
        "**GradientBoostingClassifier**"
      ]
    },
    {
      "cell_type": "code",
      "execution_count": null,
      "metadata": {
        "colab": {
          "base_uri": "https://localhost:8080/",
          "height": 608
        },
        "id": "4vkws4zZwJlC",
        "outputId": "35883c44-20e5-4210-8305-25b56533b3f1"
      },
      "outputs": [
        {
          "name": "stdout",
          "output_type": "stream",
          "text": [
            "========== Gradient Boosting Classifier ==========\n",
            "\n",
            "Accuracy on validation set: 0.8568\n",
            "\n",
            "Classification report : \n",
            "               precision    recall  f1-score   support\n",
            "\n",
            "           0       0.91      0.87      0.89       563\n",
            "           1       0.77      0.83      0.80       289\n",
            "\n",
            "    accuracy                           0.86       852\n",
            "   macro avg       0.84      0.85      0.84       852\n",
            "weighted avg       0.86      0.86      0.86       852\n",
            "\n",
            "\n",
            "Confusion Matrix : \n",
            " [[489  74]\n",
            " [ 48 241]]\n"
          ]
        },
        {
          "data": {
            "image/png": "[encoded data removed]",
            "text/plain": [
              "<Figure size 432x288 with 2 Axes>"
            ]
          },
          "metadata": {
            "needs_background": "light"
          },
          "output_type": "display_data"
        }
      ],
      "source": [
        "from sklearn.ensemble import GradientBoostingClassifier\n",
        "rfc = GradientBoostingClassifier()\n",
        "rfc.fit(X_train, y_train)\n",
        "y_pred_rfc = rfc.predict(X_test)\n",
        "results_rfc = modelEvaluation(y_test, y_pred_rfc, \"Gradient Boosting Classifier\")"
      ]
    },
    {
      "cell_type": "markdown",
      "metadata": {
        "id": "cLYO_sCSI_c7"
      },
      "source": [
        "# Best Model"
      ]
    },
    {
      "cell_type": "markdown",
      "metadata": {
        "id": "181CR75hIztN"
      },
      "source": [
        "*The Random forest classifier is best model because it give the good and high accuracy among all other models*"
      ]
    },
    {
      "cell_type": "markdown",
      "metadata": {
        "id": "67QKwRPbxJ-z"
      },
      "source": [
        "## 3rd task Answer the following the questions"
      ]
    },
    {
      "cell_type": "markdown",
      "metadata": {
        "id": "ZxNRnfAFxQRI"
      },
      "source": [
        "**Answer no 1**\n",
        "similar\n",
        "\n",
        "**Answer no 2**\n",
        "The ensamble model we implment in the task,not have improved accuracy\n",
        "\n",
        "**Answer no 3**\n",
        "Categorical value ph is important, where this value will be missing it will fill it with unknown or new label\n"
      ]
    }
  ],
  "metadata": {
    "colab": {
      "collapsed_sections": [],
      "name": "Prediction of wine (Classical Machine Learning Model Building).ipynb",
      "provenance": []
    },
    "kernelspec": {
      "display_name": "Python 3",
      "name": "python3"
    },
    "language_info": {
      "name": "python"
    }
  },
  "nbformat": 4,
  "nbformat_minor": 0
}
